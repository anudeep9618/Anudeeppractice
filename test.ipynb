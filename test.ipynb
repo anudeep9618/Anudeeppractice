{
 "cells": [
  {
   "cell_type": "code",
   "execution_count": 2,
   "metadata": {},
   "outputs": [],
   "source": [
    "from fastapi import FastAPI, HTTPException, Header\n",
    "from pydantic import BaseModel, RootModel, Field\n",
    "from typing import List, Optional, Dict, Any\n",
    "import httpx\n",
    "import json"
   ]
  },
  {
   "cell_type": "code",
   "execution_count": 5,
   "metadata": {},
   "outputs": [],
   "source": [
    "# Input model for the request payload\n",
    "class Location(BaseModel):\n",
    "    location_id: Optional[int] = Field(None, alias=\"location-id\")\n",
    "    location_name: Optional[str] = Field(None, alias=\"location-name\")\n",
    "    address: Optional[str] = None\n",
    "    city: Optional[str] = None\n",
    "    state: Optional[str] = None\n",
    "    country: Optional[str] = None\n",
    "    clli_code: Optional[str] = Field(None, alias=\"clli-code\")\n",
    "\n",
    "class OutageInfo(BaseModel):\n",
    "    number_of_outages: Optional[int] = Field(None, alias=\"number-of-outages\")\n",
    "    outage_duration: Optional[int] = Field(None, alias=\"outage-duration\")\n",
    "    outage_unit_of_measure: Optional[str] = Field(None, alias=\"outage-unit-of-measure\")\n",
    "    outages: Optional[List[dict]] = None  # Handling the outages field if it's provided\n",
    "\n",
    "class OutageDetails(BaseModel):\n",
    "    outage_info: Optional[OutageInfo] = Field(None, alias=\"outage-info\")\n",
    "\n",
    "class MOP(BaseModel):\n",
    "    mop_url: Optional[str] = Field(None, alias=\"mop-url\")\n",
    "    mop_comments: Optional[str] = Field(None, alias=\"mop-comments\")\n",
    "    backout_duration: Optional[str] = Field(None, alias=\"backout-duration\")\n",
    "    mop_id: Optional[str] = Field(None, alias=\"mop-id\")  # Optional field\n",
    "    mop_files: Optional[List[dict]] = None  # Handling the mop-files field\n",
    "    mop_steps: Optional[List[dict]] = None  # Handling the mop-steps field\n",
    "    backout_procedure: Optional[List[dict]] = None  # Handling backout-procedure field\n",
    "\n",
    "class NetworkElement(BaseModel):\n",
    "    ne_type: Optional[str] = Field(None, alias=\"ne-type\")\n",
    "    ne_id: Optional[str] = Field(None, alias=\"ne-id\")\n",
    "    ne_options: Optional[dict] = None  # Handling the ne-options field\n",
    "    ne_location: Optional[dict] = None  # Handling the ne-location field\n",
    "    ne_asp: Optional[List[dict]] = None  # Handling ne-asp field\n",
    "    ne_application: Optional[dict] = None  # Handling ne-application field\n",
    "    ne_site: Optional[dict] = None  # Handling ne-site field\n",
    "    ne_virtual_element: Optional[List[dict]] = None  # Handling ne-virtual-element field\n",
    "\n",
    "class ChangeRequestPayload(BaseModel):\n",
    "    reference_id: Optional[str] = Field(None, alias=\"reference-id\")\n",
    "    service_impact: Optional[str] = Field(None, alias=\"service-impact\")\n",
    "    risk_level: Optional[str] = Field(None, alias=\"risk-level\")\n",
    "    requester: Optional[str] = None\n",
    "    activity_category: Optional[str] = Field(None, alias=\"activity-category\")\n",
    "    activity_type: Optional[str] = Field(None, alias=\"activity-type\")\n",
    "    ticket_number: Optional[str] = Field(None, alias=\"ticket-number\")\n",
    "    description: Optional[str] = None\n",
    "    network: Optional[str] = None\n",
    "    subnetwork: Optional[str] = None\n",
    "    location: Optional[Location] = None\n",
    "    scheduled_start_date_time: Optional[str] = Field(None, alias=\"scheduled-start-date-time\")\n",
    "    scheduled_end_date_time: Optional[str] = Field(None, alias=\"scheduled-end-date-time\")\n",
    "    outage_details: Optional[OutageDetails] = Field(None, alias=\"outage-details\")\n",
    "    mop: Optional[List[MOP]] = None\n",
    "    submitter: Optional[str] = None\n",
    "    network_elements: Optional[List[NetworkElement]] = Field(None, alias=\"network-elements\")\n",
    "    individual_cell_site: Optional[bool] = Field(None, alias=\"individual-cell-site\")  # Optional field\n",
    "    ticket_source: Optional[str] = Field(None, alias=\"ticket-source\")  # Optional field\n",
    "    mpe_id: Optional[int] = Field(None, alias=\"mpe-id\")  # Optional field\n",
    "    break_fix: Optional[bool] = Field(None, alias=\"break-fix\")  # Optional field\n",
    "    contacts: Optional[List[dict]] = None  # Optional contacts field"
   ]
  },
  {
   "cell_type": "code",
   "execution_count": 19,
   "metadata": {},
   "outputs": [],
   "source": [
    "class OccLocation(BaseModel):\n",
    "    city: Optional[str] = None\n",
    "    state: Optional[str] = None\n",
    "    country: Optional[str] = None\n",
    "    street: Optional[str] = None\n",
    "\n",
    "class Location(BaseModel):\n",
    "    vz_loc_id: Optional[str] = Field(None, alias=\"vz-loc-id\")\n",
    "    vz_loc_name: Optional[str] = Field(None, alias=\"vz-loc-name\")\n",
    "    source_system: Optional[str] = Field(None, alias=\"source-system\")\n",
    "    source_system_site_id: Optional[str] = Field(None, alias=\"source-system-site-id\")\n",
    "    clli: Optional[str] = None\n",
    "    sensitive_clli: Optional[bool] = Field(None, alias=\"sensitive-clli\")\n",
    "    id: Optional[int] = None\n",
    "    name: Optional[str] = None\n",
    "    address: Optional[str] = None\n",
    "    city: Optional[str] = None\n",
    "    state: Optional[str] = None\n",
    "    country: Optional[str] = None\n",
    "    site_codes: Optional[List[dict]] = Field(None, alias=\"site-codes\")\n",
    "    timezone: Optional[str] = None\n",
    "    timezone_id: Optional[str] = Field(None, alias=\"timezone-id\")\n",
    "    market_id: Optional[int] = Field(None, alias=\"market-id\")\n",
    "    market_name: Optional[str] = Field(None, alias=\"market-name\")\n",
    "    submarket_id: Optional[int] = Field(None, alias=\"submarket-id\")\n",
    "    submarket_name: Optional[str] = Field(None, alias=\"submarket-name\")\n",
    "\n",
    "class User(BaseModel):\n",
    "    user_id: Optional[str] = Field(None, alias=\"user-id\")\n",
    "    display_name: Optional[str] = Field(None, alias=\"display-name\")\n",
    "    email: Optional[str] = None\n",
    "\n",
    "class RelatedTicket(BaseModel):\n",
    "    ticket_source_id: Optional[int] = Field(None, alias=\"ticket-source-id\")\n",
    "    ticket_source_name: Optional[str] = Field(None, alias=\"ticket-source-name\")\n",
    "    ticket_number: Optional[str] = Field(None, alias=\"ticket-number\")\n",
    "\n",
    "class MopFile(BaseModel):\n",
    "    file_name: Optional[str] = Field(None, alias=\"file-name\")\n",
    "    file_path: Optional[str] = Field(None, alias=\"file-path\")\n",
    "\n",
    "class MopStep(BaseModel):\n",
    "    step_seq: Optional[int] = Field(None, alias=\"step-seq\")\n",
    "    step_details: Optional[str] = Field(None, alias=\"step-details\")\n",
    "\n",
    "class RequestNE(BaseModel):\n",
    "    item_id: Optional[int] = Field(None, alias=\"item-id\")\n",
    "    item_status_id: Optional[int] = Field(None, alias=\"item-status-id\")\n",
    "    item_status_name: Optional[str] = Field(None, alias=\"item-status-name\")\n",
    "    implementation_status_id: Optional[int] = Field(None, alias=\"implementation-status-id\")\n",
    "    implementation_status_name: Optional[str] = Field(None, alias=\"implementation-status-name\")\n",
    "    actual_start_date_time: Optional[str] = Field(None, alias=\"actual-start-date-time\")\n",
    "    actual_end_date_time: Optional[str] = Field(None, alias=\"actual-end-date-time\")\n",
    "    ne_id: Optional[str] = Field(None, alias=\"ne-id\")\n",
    "    ne_type: Optional[str] = Field(None, alias=\"ne-type\")\n",
    "    ne_asp: Optional[List[dict]] = None  # Placeholder for nested 'ne-asp' list\n",
    "    ne_application: Optional[dict] = None  # Placeholder for 'ne-application' dictionary\n",
    "    ne_site: Optional[dict] = None  # Placeholder for 'ne-site' dictionary\n",
    "    ne_virtual_element: Optional[List[dict]] = None  # Placeholder for 'ne-virtual-element' list\n",
    "    number_of_outages: Optional[int] = Field(None, alias=\"number-of-outages\")\n",
    "    outage_duration: Optional[int] = Field(None, alias=\"outage-duration\")\n",
    "    outage_unit_of_measure: Optional[str] = Field(None, alias=\"outage-unit-of-measure\")\n",
    "    outages: Optional[List[dict]] = None  # Placeholder for 'outages' list\n",
    "\n",
    "class ChangeRequestResponseItem(BaseModel):\n",
    "    request_id: Optional[int] = Field(None, alias=\"request-id\")\n",
    "    plan_id: Optional[int] = Field(None, alias=\"plan-id\")\n",
    "    request_status: Optional[str] = Field(None, alias=\"request-status\")\n",
    "    approval_comments: Optional[str] = Field(None, alias=\"approval-comments\")\n",
    "    scheduled_start_date_time: Optional[str] = Field(None, alias=\"scheduled-start-date-time\")\n",
    "    scheduled_end_date_time: Optional[str] = Field(None, alias=\"scheduled-end-date-time\")\n",
    "    network_id: Optional[int] = Field(None, alias=\"network-id\")\n",
    "    network_name: Optional[str] = Field(None, alias=\"network-name\")\n",
    "    lead_time_violated: Optional[bool] = Field(None, alias=\"lead-time-violated\")\n",
    "    maintenance_window_violated: Optional[bool] = Field(None, alias=\"maintenance-window-violated\")\n",
    "    subnetwork_id: Optional[int] = Field(None, alias=\"subnetwork-id\")\n",
    "    subnetwork_name: Optional[str] = Field(None, alias=\"subnetwork-name\")\n",
    "    individual_cell_site: Optional[bool] = Field(None, alias=\"individual-cell-site\")\n",
    "    mpe_id: Optional[int] = Field(None, alias=\"mpe-id\")\n",
    "    change_type_id: Optional[int] = Field(None, alias=\"change-type-id\")\n",
    "    change_type_name: Optional[str] = Field(None, alias=\"change-type-name\")\n",
    "    occ_location: Optional[OccLocation] = Field(None, alias=\"occ-location\")\n",
    "    carrier_name: Optional[str] = None\n",
    "    impact_level_id: Optional[int] = Field(None, alias=\"impact-level-id\")\n",
    "    impact_level_name: Optional[str] = Field(None, alias=\"impact-level-name\")\n",
    "    service_impact_id: Optional[int] = Field(None, alias=\"service-impact-id\")\n",
    "    service_impact_name: Optional[str] = Field(None, alias=\"service-impact-name\")\n",
    "    risk_level_id: Optional[int] = Field(None, alias=\"risk-level-id\")\n",
    "    risk_level_name: Optional[str] = Field(None, alias=\"risk-level-name\")\n",
    "    activity_category_id: Optional[int] = Field(None, alias=\"activity-category-id\")\n",
    "    activity_category_name: Optional[str] = Field(None, alias=\"activity-category-name\")\n",
    "    activity_type_id: Optional[int] = Field(None, alias=\"activity-type-id\")\n",
    "    activity_type_name: Optional[str] = Field(None, alias=\"activity-type-name\")\n",
    "    description: Optional[str] = None\n",
    "    location: Optional[Location] = None\n",
    "    requester: Optional[User] = None\n",
    "    submitter: Optional[User] = None\n",
    "    implementer: Optional[User] = None\n",
    "    related_ticket: Optional[RelatedTicket] = None\n",
    "    reference_id: Optional[str] = Field(None, alias=\"reference-id\")\n",
    "    project_id: Optional[int] = Field(None, alias=\"project-id\")\n",
    "    created_date_time: Optional[str] = Field(None, alias=\"created-date-time\")\n",
    "    last_modified_by: Optional[User] = Field(None, alias=\"last-modified-by\")\n",
    "    last_modified_date_time: Optional[str] = Field(None, alias=\"last-modified-date-time\")\n",
    "    mop_files: Optional[List[MopFile]] = Field(None, alias=\"mop-files\")\n",
    "    mop_url: Optional[str] = Field(None, alias=\"mop-url\")\n",
    "    mop_id: Optional[str] = Field(None, alias=\"mop-id\")\n",
    "    mop_steps: Optional[List[MopStep]] = Field(None, alias=\"mop-steps\")\n",
    "    mop_comments: Optional[str] = Field(None, alias=\"mop-comments\")\n",
    "    backout_duration: Optional[str] = Field(None, alias=\"backout-duration\")\n",
    "    backout_procedure: Optional[List[List[MopStep]]] = Field(None, alias=\"backout-procedure\")\n",
    "    request_ne_list: Optional[List[RequestNE]] = Field(None, alias=\"request-ne-list\")\n",
    "    request_contacts: Optional[List[dict]] = Field(None, alias=\"request-contacts\")\n",
    "    request_conflicts: Optional[List[dict]] = Field(None, alias=\"request-conflicts\")\n",
    "    additionalProp1: Optional[Dict] = None\n",
    "\n",
    "\n",
    "class ChangeRequestResponse(RootModel):\n",
    "    root: List[List[ChangeRequestResponseItem]]"
   ]
  },
  {
   "cell_type": "code",
   "execution_count": 12,
   "metadata": {},
   "outputs": [],
   "source": [
    "payload_str = \"\"\"{\n",
    "\t\"service-impact\": \"Non-Service Affecting\",\n",
    "\t\"risk-level\" :\"INCIDENT\",\n",
    "\t\"requester\" :\"SVC-gxov_kirke_np\",\n",
    "\t\"activity-category\": \"APPLICATION\",\n",
    "\t\"activity-type\": \"RESTART\",\n",
    "\t\"ticket-number\" : \"INC1001011\",\n",
    "\t\"description\": \"Automated Kirke plan/request creation by iEN-AP\",\n",
    "\t\"network\": \"CLOUD\",\n",
    "\t\"subnetwork\": \"CORE\",\n",
    "\t\"location\": {\n",
    "\t\t\"location-id\": 48447605\n",
    "\t},\n",
    "\t\"scheduled-start-date-time\": \"2024-12-26T23:00:00.000Z\",\n",
    "\t\"scheduled-end-date-time\": \"2024-12-26T23:05:00.000Z\",\n",
    "\t\"outage-details\": {\n",
    "\t\t\"outage-info\": {\n",
    "\t\t\t\"number-of-outages\": 0,\n",
    "\t\t\t\"outage-duration\": 1,\n",
    "\t\t\t\"outage-unit-of-measure\": \"Minutes\"\n",
    "\t\t}\n",
    "\t},\n",
    "\t\"mop\": [\n",
    "\t\t{\n",
    "\t\t\t\"mop-url\": \"https://www.verizon.com\",\n",
    "\t\t\t\"mop-comments\": \"MOP details not yet provided - contact requester.\",\n",
    "\t\t\t\"backout-duration\": \"00:01\"\n",
    "\t\t}\n",
    "\t],\n",
    "\t\"submitter\": \"SVC-gxov_kirke_np\",\n",
    "\t\"network-elements\": [\n",
    "\t  {\n",
    "\t\t\"ne-type\": \"Device\",\n",
    "\t\t\"ne-id\": \"twbgohaavzwcbsf-y-or-e1-000\"\n",
    "\t }\n",
    "\t ]\n",
    "}\"\"\""
   ]
  },
  {
   "cell_type": "code",
   "execution_count": 13,
   "metadata": {},
   "outputs": [
    {
     "data": {
      "text/plain": [
       "{'service-impact': 'Non-Service Affecting',\n",
       " 'risk-level': 'INCIDENT',\n",
       " 'requester': 'SVC-gxov_kirke_np',\n",
       " 'activity-category': 'APPLICATION',\n",
       " 'activity-type': 'RESTART',\n",
       " 'ticket-number': 'INC1001011',\n",
       " 'description': 'Automated Kirke plan/request creation by iEN-AP',\n",
       " 'network': 'CLOUD',\n",
       " 'subnetwork': 'CORE',\n",
       " 'location': {'location-id': 48447605},\n",
       " 'scheduled-start-date-time': '2024-12-26T23:00:00.000Z',\n",
       " 'scheduled-end-date-time': '2024-12-26T23:05:00.000Z',\n",
       " 'outage-details': {'outage-info': {'number-of-outages': 0,\n",
       "   'outage-duration': 1,\n",
       "   'outage-unit-of-measure': 'Minutes'}},\n",
       " 'mop': [{'mop-url': 'https://www.verizon.com',\n",
       "   'mop-comments': 'MOP details not yet provided - contact requester.',\n",
       "   'backout-duration': '00:01'}],\n",
       " 'submitter': 'SVC-gxov_kirke_np',\n",
       " 'network-elements': [{'ne-type': 'Device',\n",
       "   'ne-id': 'twbgohaavzwcbsf-y-or-e1-000'}]}"
      ]
     },
     "execution_count": 13,
     "metadata": {},
     "output_type": "execute_result"
    }
   ],
   "source": [
    "data = json.loads(payload_str)  # Convert JSON string to a dictionary\n",
    "data"
   ]
  },
  {
   "cell_type": "code",
   "execution_count": 14,
   "metadata": {},
   "outputs": [
    {
     "data": {
      "text/plain": [
       "ChangeRequestPayload(reference_id=None, service_impact='Non-Service Affecting', risk_level='INCIDENT', requester='SVC-gxov_kirke_np', activity_category='APPLICATION', activity_type='RESTART', ticket_number='INC1001011', description='Automated Kirke plan/request creation by iEN-AP', network='CLOUD', subnetwork='CORE', location=Location(location_id=48447605, location_name=None, address=None, city=None, state=None, country=None, clli_code=None), scheduled_start_date_time='2024-12-26T23:00:00.000Z', scheduled_end_date_time='2024-12-26T23:05:00.000Z', outage_details=OutageDetails(outage_info=OutageInfo(number_of_outages=0, outage_duration=1, outage_unit_of_measure='Minutes', outages=None)), mop=[MOP(mop_url='https://www.verizon.com', mop_comments='MOP details not yet provided - contact requester.', backout_duration='00:01', mop_id=None, mop_files=None, mop_steps=None, backout_procedure=None)], submitter='SVC-gxov_kirke_np', network_elements=[NetworkElement(ne_type='Device', ne_id='twbgohaavzwcbsf-y-or-e1-000', ne_options=None, ne_location=None, ne_asp=None, ne_application=None, ne_site=None, ne_virtual_element=None)], individual_cell_site=None, ticket_source=None, mpe_id=None, break_fix=None, contacts=None)"
      ]
     },
     "execution_count": 14,
     "metadata": {},
     "output_type": "execute_result"
    }
   ],
   "source": [
    "payload = ChangeRequestPayload(**data)  # Validate and create the Pydantic model instance\n",
    "payload"
   ]
  },
  {
   "cell_type": "code",
   "execution_count": 23,
   "metadata": {},
   "outputs": [
    {
     "data": {
      "text/plain": [
       "{'Content-Type': 'application/json',\n",
       " 'accept': 'application/json',\n",
       " 'Authorization': 'authorization',\n",
       " 'jwtToken': 'jwt_token'}"
      ]
     },
     "execution_count": 23,
     "metadata": {},
     "output_type": "execute_result"
    }
   ],
   "source": [
    "CHANGE_REQUEST_URL = \"https://oa-uat.ebiz.verizon.com/msjv-kirke-changemanagement/changerequests/v2\"\n",
    "\n",
    "headers = {\n",
    "    \"Content-Type\": \"application/json\",\n",
    "    \"accept\": \"application/json\",\n",
    "    \"Authorization\": \"authorization\",\n",
    "    \"jwtToken\": \"jwt_token\",\n",
    "}\n",
    "headers"
   ]
  },
  {
   "cell_type": "code",
   "execution_count": 25,
   "metadata": {},
   "outputs": [
    {
     "data": {
      "text/plain": [
       "{'reference-id': None,\n",
       " 'service-impact': 'Non-Service Affecting',\n",
       " 'risk-level': 'INCIDENT',\n",
       " 'requester': 'SVC-gxov_kirke_np',\n",
       " 'activity-category': 'APPLICATION',\n",
       " 'activity-type': 'RESTART',\n",
       " 'ticket-number': 'INC1001011',\n",
       " 'description': 'Automated Kirke plan/request creation by iEN-AP',\n",
       " 'network': 'CLOUD',\n",
       " 'subnetwork': 'CORE',\n",
       " 'location': {'location-id': 48447605,\n",
       "  'location-name': None,\n",
       "  'address': None,\n",
       "  'city': None,\n",
       "  'state': None,\n",
       "  'country': None,\n",
       "  'clli-code': None},\n",
       " 'scheduled-start-date-time': '2024-12-26T23:00:00.000Z',\n",
       " 'scheduled-end-date-time': '2024-12-26T23:05:00.000Z',\n",
       " 'outage-details': {'outage-info': {'number-of-outages': 0,\n",
       "   'outage-duration': 1,\n",
       "   'outage-unit-of-measure': 'Minutes',\n",
       "   'outages': None}},\n",
       " 'mop': [{'mop-url': 'https://www.verizon.com',\n",
       "   'mop-comments': 'MOP details not yet provided - contact requester.',\n",
       "   'backout-duration': '00:01',\n",
       "   'mop-id': None,\n",
       "   'mop_files': None,\n",
       "   'mop_steps': None,\n",
       "   'backout_procedure': None}],\n",
       " 'submitter': 'SVC-gxov_kirke_np',\n",
       " 'network-elements': [{'ne-type': 'Device',\n",
       "   'ne-id': 'twbgohaavzwcbsf-y-or-e1-000',\n",
       "   'ne_options': None,\n",
       "   'ne_location': None,\n",
       "   'ne_asp': None,\n",
       "   'ne_application': None,\n",
       "   'ne_site': None,\n",
       "   'ne_virtual_element': None}],\n",
       " 'individual-cell-site': None,\n",
       " 'ticket-source': None,\n",
       " 'mpe-id': None,\n",
       " 'break-fix': None,\n",
       " 'contacts': None}"
      ]
     },
     "execution_count": 25,
     "metadata": {},
     "output_type": "execute_result"
    }
   ],
   "source": [
    "payload.model_dump(by_alias=True)"
   ]
  },
  {
   "cell_type": "code",
   "execution_count": 17,
   "metadata": {},
   "outputs": [
    {
     "ename": "ConnectError",
     "evalue": "[Errno 8] nodename nor servname provided, or not known",
     "output_type": "error",
     "traceback": [
      "\u001b[0;31m---------------------------------------------------------------------------\u001b[0m",
      "\u001b[0;31mConnectError\u001b[0m                              Traceback (most recent call last)",
      "File \u001b[0;32m~/Documents/Projects/FastAPI/.venv/lib/python3.12/site-packages/httpx/_transports/default.py:72\u001b[0m, in \u001b[0;36mmap_httpcore_exceptions\u001b[0;34m()\u001b[0m\n\u001b[1;32m     71\u001b[0m \u001b[38;5;28;01mtry\u001b[39;00m:\n\u001b[0;32m---> 72\u001b[0m     \u001b[38;5;28;01myield\u001b[39;00m\n\u001b[1;32m     73\u001b[0m \u001b[38;5;28;01mexcept\u001b[39;00m \u001b[38;5;167;01mException\u001b[39;00m \u001b[38;5;28;01mas\u001b[39;00m exc:\n",
      "File \u001b[0;32m~/Documents/Projects/FastAPI/.venv/lib/python3.12/site-packages/httpx/_transports/default.py:377\u001b[0m, in \u001b[0;36mAsyncHTTPTransport.handle_async_request\u001b[0;34m(self, request)\u001b[0m\n\u001b[1;32m    376\u001b[0m \u001b[38;5;28;01mwith\u001b[39;00m map_httpcore_exceptions():\n\u001b[0;32m--> 377\u001b[0m     resp \u001b[38;5;241m=\u001b[39m \u001b[38;5;28;01mawait\u001b[39;00m \u001b[38;5;28mself\u001b[39m\u001b[38;5;241m.\u001b[39m_pool\u001b[38;5;241m.\u001b[39mhandle_async_request(req)\n\u001b[1;32m    379\u001b[0m \u001b[38;5;28;01massert\u001b[39;00m \u001b[38;5;28misinstance\u001b[39m(resp\u001b[38;5;241m.\u001b[39mstream, typing\u001b[38;5;241m.\u001b[39mAsyncIterable)\n",
      "File \u001b[0;32m~/Documents/Projects/FastAPI/.venv/lib/python3.12/site-packages/httpcore/_async/connection_pool.py:256\u001b[0m, in \u001b[0;36mAsyncConnectionPool.handle_async_request\u001b[0;34m(self, request)\u001b[0m\n\u001b[1;32m    255\u001b[0m     \u001b[38;5;28;01mawait\u001b[39;00m \u001b[38;5;28mself\u001b[39m\u001b[38;5;241m.\u001b[39m_close_connections(closing)\n\u001b[0;32m--> 256\u001b[0m     \u001b[38;5;28;01mraise\u001b[39;00m exc \u001b[38;5;28;01mfrom\u001b[39;00m \u001b[38;5;28;01mNone\u001b[39;00m\n\u001b[1;32m    258\u001b[0m \u001b[38;5;66;03m# Return the response. Note that in this case we still have to manage\u001b[39;00m\n\u001b[1;32m    259\u001b[0m \u001b[38;5;66;03m# the point at which the response is closed.\u001b[39;00m\n",
      "File \u001b[0;32m~/Documents/Projects/FastAPI/.venv/lib/python3.12/site-packages/httpcore/_async/connection_pool.py:236\u001b[0m, in \u001b[0;36mAsyncConnectionPool.handle_async_request\u001b[0;34m(self, request)\u001b[0m\n\u001b[1;32m    234\u001b[0m \u001b[38;5;28;01mtry\u001b[39;00m:\n\u001b[1;32m    235\u001b[0m     \u001b[38;5;66;03m# Send the request on the assigned connection.\u001b[39;00m\n\u001b[0;32m--> 236\u001b[0m     response \u001b[38;5;241m=\u001b[39m \u001b[38;5;28;01mawait\u001b[39;00m connection\u001b[38;5;241m.\u001b[39mhandle_async_request(\n\u001b[1;32m    237\u001b[0m         pool_request\u001b[38;5;241m.\u001b[39mrequest\n\u001b[1;32m    238\u001b[0m     )\n\u001b[1;32m    239\u001b[0m \u001b[38;5;28;01mexcept\u001b[39;00m ConnectionNotAvailable:\n\u001b[1;32m    240\u001b[0m     \u001b[38;5;66;03m# In some cases a connection may initially be available to\u001b[39;00m\n\u001b[1;32m    241\u001b[0m     \u001b[38;5;66;03m# handle a request, but then become unavailable.\u001b[39;00m\n\u001b[1;32m    242\u001b[0m     \u001b[38;5;66;03m#\u001b[39;00m\n\u001b[1;32m    243\u001b[0m     \u001b[38;5;66;03m# In this case we clear the connection and try again.\u001b[39;00m\n",
      "File \u001b[0;32m~/Documents/Projects/FastAPI/.venv/lib/python3.12/site-packages/httpcore/_async/connection.py:101\u001b[0m, in \u001b[0;36mAsyncHTTPConnection.handle_async_request\u001b[0;34m(self, request)\u001b[0m\n\u001b[1;32m    100\u001b[0m     \u001b[38;5;28mself\u001b[39m\u001b[38;5;241m.\u001b[39m_connect_failed \u001b[38;5;241m=\u001b[39m \u001b[38;5;28;01mTrue\u001b[39;00m\n\u001b[0;32m--> 101\u001b[0m     \u001b[38;5;28;01mraise\u001b[39;00m exc\n\u001b[1;32m    103\u001b[0m \u001b[38;5;28;01mreturn\u001b[39;00m \u001b[38;5;28;01mawait\u001b[39;00m \u001b[38;5;28mself\u001b[39m\u001b[38;5;241m.\u001b[39m_connection\u001b[38;5;241m.\u001b[39mhandle_async_request(request)\n",
      "File \u001b[0;32m~/Documents/Projects/FastAPI/.venv/lib/python3.12/site-packages/httpcore/_async/connection.py:78\u001b[0m, in \u001b[0;36mAsyncHTTPConnection.handle_async_request\u001b[0;34m(self, request)\u001b[0m\n\u001b[1;32m     77\u001b[0m \u001b[38;5;28;01mif\u001b[39;00m \u001b[38;5;28mself\u001b[39m\u001b[38;5;241m.\u001b[39m_connection \u001b[38;5;129;01mis\u001b[39;00m \u001b[38;5;28;01mNone\u001b[39;00m:\n\u001b[0;32m---> 78\u001b[0m     stream \u001b[38;5;241m=\u001b[39m \u001b[38;5;28;01mawait\u001b[39;00m \u001b[38;5;28mself\u001b[39m\u001b[38;5;241m.\u001b[39m_connect(request)\n\u001b[1;32m     80\u001b[0m     ssl_object \u001b[38;5;241m=\u001b[39m stream\u001b[38;5;241m.\u001b[39mget_extra_info(\u001b[38;5;124m\"\u001b[39m\u001b[38;5;124mssl_object\u001b[39m\u001b[38;5;124m\"\u001b[39m)\n",
      "File \u001b[0;32m~/Documents/Projects/FastAPI/.venv/lib/python3.12/site-packages/httpcore/_async/connection.py:124\u001b[0m, in \u001b[0;36mAsyncHTTPConnection._connect\u001b[0;34m(self, request)\u001b[0m\n\u001b[1;32m    123\u001b[0m \u001b[38;5;28;01masync\u001b[39;00m \u001b[38;5;28;01mwith\u001b[39;00m Trace(\u001b[38;5;124m\"\u001b[39m\u001b[38;5;124mconnect_tcp\u001b[39m\u001b[38;5;124m\"\u001b[39m, logger, request, kwargs) \u001b[38;5;28;01mas\u001b[39;00m trace:\n\u001b[0;32m--> 124\u001b[0m     stream \u001b[38;5;241m=\u001b[39m \u001b[38;5;28;01mawait\u001b[39;00m \u001b[38;5;28mself\u001b[39m\u001b[38;5;241m.\u001b[39m_network_backend\u001b[38;5;241m.\u001b[39mconnect_tcp(\u001b[38;5;241m*\u001b[39m\u001b[38;5;241m*\u001b[39mkwargs)\n\u001b[1;32m    125\u001b[0m     trace\u001b[38;5;241m.\u001b[39mreturn_value \u001b[38;5;241m=\u001b[39m stream\n",
      "File \u001b[0;32m~/Documents/Projects/FastAPI/.venv/lib/python3.12/site-packages/httpcore/_backends/auto.py:31\u001b[0m, in \u001b[0;36mAutoBackend.connect_tcp\u001b[0;34m(self, host, port, timeout, local_address, socket_options)\u001b[0m\n\u001b[1;32m     30\u001b[0m \u001b[38;5;28;01mawait\u001b[39;00m \u001b[38;5;28mself\u001b[39m\u001b[38;5;241m.\u001b[39m_init_backend()\n\u001b[0;32m---> 31\u001b[0m \u001b[38;5;28;01mreturn\u001b[39;00m \u001b[38;5;28;01mawait\u001b[39;00m \u001b[38;5;28mself\u001b[39m\u001b[38;5;241m.\u001b[39m_backend\u001b[38;5;241m.\u001b[39mconnect_tcp(\n\u001b[1;32m     32\u001b[0m     host,\n\u001b[1;32m     33\u001b[0m     port,\n\u001b[1;32m     34\u001b[0m     timeout\u001b[38;5;241m=\u001b[39mtimeout,\n\u001b[1;32m     35\u001b[0m     local_address\u001b[38;5;241m=\u001b[39mlocal_address,\n\u001b[1;32m     36\u001b[0m     socket_options\u001b[38;5;241m=\u001b[39msocket_options,\n\u001b[1;32m     37\u001b[0m )\n",
      "File \u001b[0;32m~/Documents/Projects/FastAPI/.venv/lib/python3.12/site-packages/httpcore/_backends/anyio.py:113\u001b[0m, in \u001b[0;36mAnyIOBackend.connect_tcp\u001b[0;34m(self, host, port, timeout, local_address, socket_options)\u001b[0m\n\u001b[1;32m    108\u001b[0m exc_map \u001b[38;5;241m=\u001b[39m {\n\u001b[1;32m    109\u001b[0m     \u001b[38;5;167;01mTimeoutError\u001b[39;00m: ConnectTimeout,\n\u001b[1;32m    110\u001b[0m     \u001b[38;5;167;01mOSError\u001b[39;00m: ConnectError,\n\u001b[1;32m    111\u001b[0m     anyio\u001b[38;5;241m.\u001b[39mBrokenResourceError: ConnectError,\n\u001b[1;32m    112\u001b[0m }\n\u001b[0;32m--> 113\u001b[0m \u001b[43m\u001b[49m\u001b[38;5;28;43;01mwith\u001b[39;49;00m\u001b[43m \u001b[49m\u001b[43mmap_exceptions\u001b[49m\u001b[43m(\u001b[49m\u001b[43mexc_map\u001b[49m\u001b[43m)\u001b[49m\u001b[43m:\u001b[49m\n\u001b[1;32m    114\u001b[0m \u001b[43m    \u001b[49m\u001b[38;5;28;43;01mwith\u001b[39;49;00m\u001b[43m \u001b[49m\u001b[43manyio\u001b[49m\u001b[38;5;241;43m.\u001b[39;49m\u001b[43mfail_after\u001b[49m\u001b[43m(\u001b[49m\u001b[43mtimeout\u001b[49m\u001b[43m)\u001b[49m\u001b[43m:\u001b[49m\n",
      "File \u001b[0;32m/Library/Frameworks/Python.framework/Versions/3.12/lib/python3.12/contextlib.py:158\u001b[0m, in \u001b[0;36m_GeneratorContextManager.__exit__\u001b[0;34m(self, typ, value, traceback)\u001b[0m\n\u001b[1;32m    157\u001b[0m \u001b[38;5;28;01mtry\u001b[39;00m:\n\u001b[0;32m--> 158\u001b[0m     \u001b[38;5;28;43mself\u001b[39;49m\u001b[38;5;241;43m.\u001b[39;49m\u001b[43mgen\u001b[49m\u001b[38;5;241;43m.\u001b[39;49m\u001b[43mthrow\u001b[49m\u001b[43m(\u001b[49m\u001b[43mvalue\u001b[49m\u001b[43m)\u001b[49m\n\u001b[1;32m    159\u001b[0m \u001b[38;5;28;01mexcept\u001b[39;00m \u001b[38;5;167;01mStopIteration\u001b[39;00m \u001b[38;5;28;01mas\u001b[39;00m exc:\n\u001b[1;32m    160\u001b[0m     \u001b[38;5;66;03m# Suppress StopIteration *unless* it's the same exception that\u001b[39;00m\n\u001b[1;32m    161\u001b[0m     \u001b[38;5;66;03m# was passed to throw().  This prevents a StopIteration\u001b[39;00m\n\u001b[1;32m    162\u001b[0m     \u001b[38;5;66;03m# raised inside the \"with\" statement from being suppressed.\u001b[39;00m\n",
      "File \u001b[0;32m~/Documents/Projects/FastAPI/.venv/lib/python3.12/site-packages/httpcore/_exceptions.py:14\u001b[0m, in \u001b[0;36mmap_exceptions\u001b[0;34m(map)\u001b[0m\n\u001b[1;32m     13\u001b[0m     \u001b[38;5;28;01mif\u001b[39;00m \u001b[38;5;28misinstance\u001b[39m(exc, from_exc):\n\u001b[0;32m---> 14\u001b[0m         \u001b[38;5;28;01mraise\u001b[39;00m to_exc(exc) \u001b[38;5;28;01mfrom\u001b[39;00m \u001b[38;5;21;01mexc\u001b[39;00m\n\u001b[1;32m     15\u001b[0m \u001b[38;5;28;01mraise\u001b[39;00m\n",
      "\u001b[0;31mConnectError\u001b[0m: [Errno 8] nodename nor servname provided, or not known",
      "\nThe above exception was the direct cause of the following exception:\n",
      "\u001b[0;31mConnectError\u001b[0m                              Traceback (most recent call last)",
      "Cell \u001b[0;32mIn[17], line 2\u001b[0m\n\u001b[1;32m      1\u001b[0m \u001b[38;5;28;01masync\u001b[39;00m \u001b[38;5;28;01mwith\u001b[39;00m httpx\u001b[38;5;241m.\u001b[39mAsyncClient() \u001b[38;5;28;01mas\u001b[39;00m client:\n\u001b[0;32m----> 2\u001b[0m     response \u001b[38;5;241m=\u001b[39m \u001b[38;5;28;01mawait\u001b[39;00m client\u001b[38;5;241m.\u001b[39mpost(\n\u001b[1;32m      3\u001b[0m         CHANGE_REQUEST_URL, headers\u001b[38;5;241m=\u001b[39mheaders, json\u001b[38;5;241m=\u001b[39mpayload\u001b[38;5;241m.\u001b[39mmodel_dump(by_alias\u001b[38;5;241m=\u001b[39m\u001b[38;5;28;01mTrue\u001b[39;00m)\n\u001b[1;32m      4\u001b[0m     )\n\u001b[1;32m      6\u001b[0m response\n",
      "File \u001b[0;32m~/Documents/Projects/FastAPI/.venv/lib/python3.12/site-packages/httpx/_client.py:1905\u001b[0m, in \u001b[0;36mAsyncClient.post\u001b[0;34m(self, url, content, data, files, json, params, headers, cookies, auth, follow_redirects, timeout, extensions)\u001b[0m\n\u001b[1;32m   1884\u001b[0m \u001b[38;5;28;01masync\u001b[39;00m \u001b[38;5;28;01mdef\u001b[39;00m \u001b[38;5;21mpost\u001b[39m(\n\u001b[1;32m   1885\u001b[0m     \u001b[38;5;28mself\u001b[39m,\n\u001b[1;32m   1886\u001b[0m     url: URL \u001b[38;5;241m|\u001b[39m \u001b[38;5;28mstr\u001b[39m,\n\u001b[0;32m   (...)\u001b[0m\n\u001b[1;32m   1898\u001b[0m     extensions: RequestExtensions \u001b[38;5;241m|\u001b[39m \u001b[38;5;28;01mNone\u001b[39;00m \u001b[38;5;241m=\u001b[39m \u001b[38;5;28;01mNone\u001b[39;00m,\n\u001b[1;32m   1899\u001b[0m ) \u001b[38;5;241m-\u001b[39m\u001b[38;5;241m>\u001b[39m Response:\n\u001b[1;32m   1900\u001b[0m \u001b[38;5;250m    \u001b[39m\u001b[38;5;124;03m\"\"\"\u001b[39;00m\n\u001b[1;32m   1901\u001b[0m \u001b[38;5;124;03m    Send a `POST` request.\u001b[39;00m\n\u001b[1;32m   1902\u001b[0m \n\u001b[1;32m   1903\u001b[0m \u001b[38;5;124;03m    **Parameters**: See `httpx.request`.\u001b[39;00m\n\u001b[1;32m   1904\u001b[0m \u001b[38;5;124;03m    \"\"\"\u001b[39;00m\n\u001b[0;32m-> 1905\u001b[0m     \u001b[38;5;28;01mreturn\u001b[39;00m \u001b[38;5;28;01mawait\u001b[39;00m \u001b[38;5;28mself\u001b[39m\u001b[38;5;241m.\u001b[39mrequest(\n\u001b[1;32m   1906\u001b[0m         \u001b[38;5;124m\"\u001b[39m\u001b[38;5;124mPOST\u001b[39m\u001b[38;5;124m\"\u001b[39m,\n\u001b[1;32m   1907\u001b[0m         url,\n\u001b[1;32m   1908\u001b[0m         content\u001b[38;5;241m=\u001b[39mcontent,\n\u001b[1;32m   1909\u001b[0m         data\u001b[38;5;241m=\u001b[39mdata,\n\u001b[1;32m   1910\u001b[0m         files\u001b[38;5;241m=\u001b[39mfiles,\n\u001b[1;32m   1911\u001b[0m         json\u001b[38;5;241m=\u001b[39mjson,\n\u001b[1;32m   1912\u001b[0m         params\u001b[38;5;241m=\u001b[39mparams,\n\u001b[1;32m   1913\u001b[0m         headers\u001b[38;5;241m=\u001b[39mheaders,\n\u001b[1;32m   1914\u001b[0m         cookies\u001b[38;5;241m=\u001b[39mcookies,\n\u001b[1;32m   1915\u001b[0m         auth\u001b[38;5;241m=\u001b[39mauth,\n\u001b[1;32m   1916\u001b[0m         follow_redirects\u001b[38;5;241m=\u001b[39mfollow_redirects,\n\u001b[1;32m   1917\u001b[0m         timeout\u001b[38;5;241m=\u001b[39mtimeout,\n\u001b[1;32m   1918\u001b[0m         extensions\u001b[38;5;241m=\u001b[39mextensions,\n\u001b[1;32m   1919\u001b[0m     )\n",
      "File \u001b[0;32m~/Documents/Projects/FastAPI/.venv/lib/python3.12/site-packages/httpx/_client.py:1585\u001b[0m, in \u001b[0;36mAsyncClient.request\u001b[0;34m(self, method, url, content, data, files, json, params, headers, cookies, auth, follow_redirects, timeout, extensions)\u001b[0m\n\u001b[1;32m   1570\u001b[0m     warnings\u001b[38;5;241m.\u001b[39mwarn(message, \u001b[38;5;167;01mDeprecationWarning\u001b[39;00m)\n\u001b[1;32m   1572\u001b[0m request \u001b[38;5;241m=\u001b[39m \u001b[38;5;28mself\u001b[39m\u001b[38;5;241m.\u001b[39mbuild_request(\n\u001b[1;32m   1573\u001b[0m     method\u001b[38;5;241m=\u001b[39mmethod,\n\u001b[1;32m   1574\u001b[0m     url\u001b[38;5;241m=\u001b[39murl,\n\u001b[0;32m   (...)\u001b[0m\n\u001b[1;32m   1583\u001b[0m     extensions\u001b[38;5;241m=\u001b[39mextensions,\n\u001b[1;32m   1584\u001b[0m )\n\u001b[0;32m-> 1585\u001b[0m \u001b[38;5;28;01mreturn\u001b[39;00m \u001b[38;5;28;01mawait\u001b[39;00m \u001b[38;5;28mself\u001b[39m\u001b[38;5;241m.\u001b[39msend(request, auth\u001b[38;5;241m=\u001b[39mauth, follow_redirects\u001b[38;5;241m=\u001b[39mfollow_redirects)\n",
      "File \u001b[0;32m~/Documents/Projects/FastAPI/.venv/lib/python3.12/site-packages/httpx/_client.py:1674\u001b[0m, in \u001b[0;36mAsyncClient.send\u001b[0;34m(self, request, stream, auth, follow_redirects)\u001b[0m\n\u001b[1;32m   1670\u001b[0m \u001b[38;5;28mself\u001b[39m\u001b[38;5;241m.\u001b[39m_set_timeout(request)\n\u001b[1;32m   1672\u001b[0m auth \u001b[38;5;241m=\u001b[39m \u001b[38;5;28mself\u001b[39m\u001b[38;5;241m.\u001b[39m_build_request_auth(request, auth)\n\u001b[0;32m-> 1674\u001b[0m response \u001b[38;5;241m=\u001b[39m \u001b[38;5;28;01mawait\u001b[39;00m \u001b[38;5;28mself\u001b[39m\u001b[38;5;241m.\u001b[39m_send_handling_auth(\n\u001b[1;32m   1675\u001b[0m     request,\n\u001b[1;32m   1676\u001b[0m     auth\u001b[38;5;241m=\u001b[39mauth,\n\u001b[1;32m   1677\u001b[0m     follow_redirects\u001b[38;5;241m=\u001b[39mfollow_redirects,\n\u001b[1;32m   1678\u001b[0m     history\u001b[38;5;241m=\u001b[39m[],\n\u001b[1;32m   1679\u001b[0m )\n\u001b[1;32m   1680\u001b[0m \u001b[38;5;28;01mtry\u001b[39;00m:\n\u001b[1;32m   1681\u001b[0m     \u001b[38;5;28;01mif\u001b[39;00m \u001b[38;5;129;01mnot\u001b[39;00m stream:\n",
      "File \u001b[0;32m~/Documents/Projects/FastAPI/.venv/lib/python3.12/site-packages/httpx/_client.py:1702\u001b[0m, in \u001b[0;36mAsyncClient._send_handling_auth\u001b[0;34m(self, request, auth, follow_redirects, history)\u001b[0m\n\u001b[1;32m   1699\u001b[0m request \u001b[38;5;241m=\u001b[39m \u001b[38;5;28;01mawait\u001b[39;00m auth_flow\u001b[38;5;241m.\u001b[39m\u001b[38;5;21m__anext__\u001b[39m()\n\u001b[1;32m   1701\u001b[0m \u001b[38;5;28;01mwhile\u001b[39;00m \u001b[38;5;28;01mTrue\u001b[39;00m:\n\u001b[0;32m-> 1702\u001b[0m     response \u001b[38;5;241m=\u001b[39m \u001b[38;5;28;01mawait\u001b[39;00m \u001b[38;5;28mself\u001b[39m\u001b[38;5;241m.\u001b[39m_send_handling_redirects(\n\u001b[1;32m   1703\u001b[0m         request,\n\u001b[1;32m   1704\u001b[0m         follow_redirects\u001b[38;5;241m=\u001b[39mfollow_redirects,\n\u001b[1;32m   1705\u001b[0m         history\u001b[38;5;241m=\u001b[39mhistory,\n\u001b[1;32m   1706\u001b[0m     )\n\u001b[1;32m   1707\u001b[0m     \u001b[38;5;28;01mtry\u001b[39;00m:\n\u001b[1;32m   1708\u001b[0m         \u001b[38;5;28;01mtry\u001b[39;00m:\n",
      "File \u001b[0;32m~/Documents/Projects/FastAPI/.venv/lib/python3.12/site-packages/httpx/_client.py:1739\u001b[0m, in \u001b[0;36mAsyncClient._send_handling_redirects\u001b[0;34m(self, request, follow_redirects, history)\u001b[0m\n\u001b[1;32m   1736\u001b[0m \u001b[38;5;28;01mfor\u001b[39;00m hook \u001b[38;5;129;01min\u001b[39;00m \u001b[38;5;28mself\u001b[39m\u001b[38;5;241m.\u001b[39m_event_hooks[\u001b[38;5;124m\"\u001b[39m\u001b[38;5;124mrequest\u001b[39m\u001b[38;5;124m\"\u001b[39m]:\n\u001b[1;32m   1737\u001b[0m     \u001b[38;5;28;01mawait\u001b[39;00m hook(request)\n\u001b[0;32m-> 1739\u001b[0m response \u001b[38;5;241m=\u001b[39m \u001b[38;5;28;01mawait\u001b[39;00m \u001b[38;5;28mself\u001b[39m\u001b[38;5;241m.\u001b[39m_send_single_request(request)\n\u001b[1;32m   1740\u001b[0m \u001b[38;5;28;01mtry\u001b[39;00m:\n\u001b[1;32m   1741\u001b[0m     \u001b[38;5;28;01mfor\u001b[39;00m hook \u001b[38;5;129;01min\u001b[39;00m \u001b[38;5;28mself\u001b[39m\u001b[38;5;241m.\u001b[39m_event_hooks[\u001b[38;5;124m\"\u001b[39m\u001b[38;5;124mresponse\u001b[39m\u001b[38;5;124m\"\u001b[39m]:\n",
      "File \u001b[0;32m~/Documents/Projects/FastAPI/.venv/lib/python3.12/site-packages/httpx/_client.py:1776\u001b[0m, in \u001b[0;36mAsyncClient._send_single_request\u001b[0;34m(self, request)\u001b[0m\n\u001b[1;32m   1771\u001b[0m     \u001b[38;5;28;01mraise\u001b[39;00m \u001b[38;5;167;01mRuntimeError\u001b[39;00m(\n\u001b[1;32m   1772\u001b[0m         \u001b[38;5;124m\"\u001b[39m\u001b[38;5;124mAttempted to send an sync request with an AsyncClient instance.\u001b[39m\u001b[38;5;124m\"\u001b[39m\n\u001b[1;32m   1773\u001b[0m     )\n\u001b[1;32m   1775\u001b[0m \u001b[38;5;28;01mwith\u001b[39;00m request_context(request\u001b[38;5;241m=\u001b[39mrequest):\n\u001b[0;32m-> 1776\u001b[0m     response \u001b[38;5;241m=\u001b[39m \u001b[38;5;28;01mawait\u001b[39;00m transport\u001b[38;5;241m.\u001b[39mhandle_async_request(request)\n\u001b[1;32m   1778\u001b[0m \u001b[38;5;28;01massert\u001b[39;00m \u001b[38;5;28misinstance\u001b[39m(response\u001b[38;5;241m.\u001b[39mstream, AsyncByteStream)\n\u001b[1;32m   1779\u001b[0m response\u001b[38;5;241m.\u001b[39mrequest \u001b[38;5;241m=\u001b[39m request\n",
      "File \u001b[0;32m~/Documents/Projects/FastAPI/.venv/lib/python3.12/site-packages/httpx/_transports/default.py:376\u001b[0m, in \u001b[0;36mAsyncHTTPTransport.handle_async_request\u001b[0;34m(self, request)\u001b[0m\n\u001b[1;32m    362\u001b[0m \u001b[38;5;28;01massert\u001b[39;00m \u001b[38;5;28misinstance\u001b[39m(request\u001b[38;5;241m.\u001b[39mstream, AsyncByteStream)\n\u001b[1;32m    364\u001b[0m req \u001b[38;5;241m=\u001b[39m httpcore\u001b[38;5;241m.\u001b[39mRequest(\n\u001b[1;32m    365\u001b[0m     method\u001b[38;5;241m=\u001b[39mrequest\u001b[38;5;241m.\u001b[39mmethod,\n\u001b[1;32m    366\u001b[0m     url\u001b[38;5;241m=\u001b[39mhttpcore\u001b[38;5;241m.\u001b[39mURL(\n\u001b[0;32m   (...)\u001b[0m\n\u001b[1;32m    374\u001b[0m     extensions\u001b[38;5;241m=\u001b[39mrequest\u001b[38;5;241m.\u001b[39mextensions,\n\u001b[1;32m    375\u001b[0m )\n\u001b[0;32m--> 376\u001b[0m \u001b[43m\u001b[49m\u001b[38;5;28;43;01mwith\u001b[39;49;00m\u001b[43m \u001b[49m\u001b[43mmap_httpcore_exceptions\u001b[49m\u001b[43m(\u001b[49m\u001b[43m)\u001b[49m\u001b[43m:\u001b[49m\n\u001b[1;32m    377\u001b[0m \u001b[43m    \u001b[49m\u001b[43mresp\u001b[49m\u001b[43m \u001b[49m\u001b[38;5;241;43m=\u001b[39;49m\u001b[43m \u001b[49m\u001b[38;5;28;43;01mawait\u001b[39;49;00m\u001b[43m \u001b[49m\u001b[38;5;28;43mself\u001b[39;49m\u001b[38;5;241;43m.\u001b[39;49m\u001b[43m_pool\u001b[49m\u001b[38;5;241;43m.\u001b[39;49m\u001b[43mhandle_async_request\u001b[49m\u001b[43m(\u001b[49m\u001b[43mreq\u001b[49m\u001b[43m)\u001b[49m\n\u001b[1;32m    379\u001b[0m \u001b[38;5;28;01massert\u001b[39;00m \u001b[38;5;28misinstance\u001b[39m(resp\u001b[38;5;241m.\u001b[39mstream, typing\u001b[38;5;241m.\u001b[39mAsyncIterable)\n",
      "File \u001b[0;32m/Library/Frameworks/Python.framework/Versions/3.12/lib/python3.12/contextlib.py:158\u001b[0m, in \u001b[0;36m_GeneratorContextManager.__exit__\u001b[0;34m(self, typ, value, traceback)\u001b[0m\n\u001b[1;32m    156\u001b[0m     value \u001b[38;5;241m=\u001b[39m typ()\n\u001b[1;32m    157\u001b[0m \u001b[38;5;28;01mtry\u001b[39;00m:\n\u001b[0;32m--> 158\u001b[0m     \u001b[38;5;28;43mself\u001b[39;49m\u001b[38;5;241;43m.\u001b[39;49m\u001b[43mgen\u001b[49m\u001b[38;5;241;43m.\u001b[39;49m\u001b[43mthrow\u001b[49m\u001b[43m(\u001b[49m\u001b[43mvalue\u001b[49m\u001b[43m)\u001b[49m\n\u001b[1;32m    159\u001b[0m \u001b[38;5;28;01mexcept\u001b[39;00m \u001b[38;5;167;01mStopIteration\u001b[39;00m \u001b[38;5;28;01mas\u001b[39;00m exc:\n\u001b[1;32m    160\u001b[0m     \u001b[38;5;66;03m# Suppress StopIteration *unless* it's the same exception that\u001b[39;00m\n\u001b[1;32m    161\u001b[0m     \u001b[38;5;66;03m# was passed to throw().  This prevents a StopIteration\u001b[39;00m\n\u001b[1;32m    162\u001b[0m     \u001b[38;5;66;03m# raised inside the \"with\" statement from being suppressed.\u001b[39;00m\n\u001b[1;32m    163\u001b[0m     \u001b[38;5;28;01mreturn\u001b[39;00m exc \u001b[38;5;129;01mis\u001b[39;00m \u001b[38;5;129;01mnot\u001b[39;00m value\n",
      "File \u001b[0;32m~/Documents/Projects/FastAPI/.venv/lib/python3.12/site-packages/httpx/_transports/default.py:89\u001b[0m, in \u001b[0;36mmap_httpcore_exceptions\u001b[0;34m()\u001b[0m\n\u001b[1;32m     86\u001b[0m     \u001b[38;5;28;01mraise\u001b[39;00m\n\u001b[1;32m     88\u001b[0m message \u001b[38;5;241m=\u001b[39m \u001b[38;5;28mstr\u001b[39m(exc)\n\u001b[0;32m---> 89\u001b[0m \u001b[38;5;28;01mraise\u001b[39;00m mapped_exc(message) \u001b[38;5;28;01mfrom\u001b[39;00m \u001b[38;5;21;01mexc\u001b[39;00m\n",
      "\u001b[0;31mConnectError\u001b[0m: [Errno 8] nodename nor servname provided, or not known"
     ]
    }
   ],
   "source": [
    "async with httpx.AsyncClient() as client:\n",
    "    response = await client.post(\n",
    "        CHANGE_REQUEST_URL, headers=headers, json=payload.model_dump(by_alias=True)\n",
    "    )\n",
    "\n",
    "response"
   ]
  },
  {
   "cell_type": "code",
   "execution_count": 18,
   "metadata": {},
   "outputs": [
    {
     "ename": "NameError",
     "evalue": "name 'response' is not defined",
     "output_type": "error",
     "traceback": [
      "\u001b[0;31m---------------------------------------------------------------------------\u001b[0m",
      "\u001b[0;31mNameError\u001b[0m                                 Traceback (most recent call last)",
      "Cell \u001b[0;32mIn[18], line 1\u001b[0m\n\u001b[0;32m----> 1\u001b[0m \u001b[43mresponse\u001b[49m\u001b[38;5;241m.\u001b[39mstatus_code\n",
      "\u001b[0;31mNameError\u001b[0m: name 'response' is not defined"
     ]
    }
   ],
   "source": [
    "response.status_code"
   ]
  },
  {
   "cell_type": "code",
   "execution_count": null,
   "metadata": {},
   "outputs": [],
   "source": [
    "response_data = response.json()\n",
    "response_data"
   ]
  },
  {
   "cell_type": "code",
   "execution_count": 20,
   "metadata": {},
   "outputs": [
    {
     "ename": "NameError",
     "evalue": "name 'response_data' is not defined",
     "output_type": "error",
     "traceback": [
      "\u001b[0;31m---------------------------------------------------------------------------\u001b[0m",
      "\u001b[0;31mNameError\u001b[0m                                 Traceback (most recent call last)",
      "Cell \u001b[0;32mIn[20], line 1\u001b[0m\n\u001b[0;32m----> 1\u001b[0m ChangeRequestResponse\u001b[38;5;241m.\u001b[39mmodel_validate(\u001b[43mresponse_data\u001b[49m)\n",
      "\u001b[0;31mNameError\u001b[0m: name 'response_data' is not defined"
     ]
    }
   ],
   "source": [
    "ChangeRequestResponse.model_validate(response_data)"
   ]
  }
 ],
 "metadata": {
  "kernelspec": {
   "display_name": ".venv",
   "language": "python",
   "name": "python3"
  },
  "language_info": {
   "codemirror_mode": {
    "name": "ipython",
    "version": 3
   },
   "file_extension": ".py",
   "mimetype": "text/x-python",
   "name": "python",
   "nbconvert_exporter": "python",
   "pygments_lexer": "ipython3",
   "version": "3.12.4"
  }
 },
 "nbformat": 4,
 "nbformat_minor": 2
}
